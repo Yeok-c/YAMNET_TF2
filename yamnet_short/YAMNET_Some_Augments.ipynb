{
 "cells": [
  {
   "cell_type": "code",
   "execution_count": 1,
   "metadata": {},
   "outputs": [],
   "source": [
    "import csv, os, glob\n",
    "import numpy as np\n",
    "import tensorflow as tf\n",
    "import features as features_lib"
   ]
  },
  {
   "cell_type": "code",
   "execution_count": 2,
   "metadata": {},
   "outputs": [
    {
     "name": "stdout",
     "output_type": "stream",
     "text": [
      "Model: \"yamnet_frames\"\n",
      "_________________________________________________________________\n",
      " Layer (type)                Output Shape              Param #   \n",
      "=================================================================\n",
      " input_1 (InputLayer)        [(None, 96, 64, 1)]       0         \n",
      "                                                                 \n",
      " layer1/conv (Conv2D)        (None, 48, 32, 32)        288       \n",
      "                                                                 \n",
      " layer1/conv/bn (BatchNormal  (None, 48, 32, 32)       96        \n",
      " ization)                                                        \n",
      "                                                                 \n",
      " layer1/relu (ReLU)          (None, 48, 32, 32)        0         \n",
      "                                                                 \n",
      " layer2/depthwise_conv (Dept  (None, 48, 32, 32)       288       \n",
      " hwiseConv2D)                                                    \n",
      "                                                                 \n",
      " layer2/depthwise_conv/bn (B  (None, 48, 32, 32)       96        \n",
      " atchNormalization)                                              \n",
      "                                                                 \n",
      " layer2/depthwise_conv/relu   (None, 48, 32, 32)       0         \n",
      " (ReLU)                                                          \n",
      "                                                                 \n",
      " layer2/pointwise_conv (Conv  (None, 48, 32, 64)       2048      \n",
      " 2D)                                                             \n",
      "                                                                 \n",
      " layer2/pointwise_conv/bn (B  (None, 48, 32, 64)       192       \n",
      " atchNormalization)                                              \n",
      "                                                                 \n",
      " layer2/pointwise_conv/relu   (None, 48, 32, 64)       0         \n",
      " (ReLU)                                                          \n",
      "                                                                 \n",
      " layer3/depthwise_conv (Dept  (None, 24, 16, 64)       576       \n",
      " hwiseConv2D)                                                    \n",
      "                                                                 \n",
      " layer3/depthwise_conv/bn (B  (None, 24, 16, 64)       192       \n",
      " atchNormalization)                                              \n",
      "                                                                 \n",
      " layer3/depthwise_conv/relu   (None, 24, 16, 64)       0         \n",
      " (ReLU)                                                          \n",
      "                                                                 \n",
      " layer3/pointwise_conv (Conv  (None, 24, 16, 128)      8192      \n",
      " 2D)                                                             \n",
      "                                                                 \n",
      " layer3/pointwise_conv/bn (B  (None, 24, 16, 128)      384       \n",
      " atchNormalization)                                              \n",
      "                                                                 \n",
      " layer3/pointwise_conv/relu   (None, 24, 16, 128)      0         \n",
      " (ReLU)                                                          \n",
      "                                                                 \n",
      " layer4/depthwise_conv (Dept  (None, 24, 16, 128)      1152      \n",
      " hwiseConv2D)                                                    \n",
      "                                                                 \n",
      " layer4/depthwise_conv/bn (B  (None, 24, 16, 128)      384       \n",
      " atchNormalization)                                              \n",
      "                                                                 \n",
      " layer4/depthwise_conv/relu   (None, 24, 16, 128)      0         \n",
      " (ReLU)                                                          \n",
      "                                                                 \n",
      " layer4/pointwise_conv (Conv  (None, 24, 16, 128)      16384     \n",
      " 2D)                                                             \n",
      "                                                                 \n",
      " layer4/pointwise_conv/bn (B  (None, 24, 16, 128)      384       \n",
      " atchNormalization)                                              \n",
      "                                                                 \n",
      " layer4/pointwise_conv/relu   (None, 24, 16, 128)      0         \n",
      " (ReLU)                                                          \n",
      "                                                                 \n",
      " layer5/depthwise_conv (Dept  (None, 12, 8, 128)       1152      \n",
      " hwiseConv2D)                                                    \n",
      "                                                                 \n",
      " layer5/depthwise_conv/bn (B  (None, 12, 8, 128)       384       \n",
      " atchNormalization)                                              \n",
      "                                                                 \n",
      " layer5/depthwise_conv/relu   (None, 12, 8, 128)       0         \n",
      " (ReLU)                                                          \n",
      "                                                                 \n",
      " layer5/pointwise_conv (Conv  (None, 12, 8, 256)       32768     \n",
      " 2D)                                                             \n",
      "                                                                 \n",
      " layer5/pointwise_conv/bn (B  (None, 12, 8, 256)       768       \n",
      " atchNormalization)                                              \n",
      "                                                                 \n",
      " layer5/pointwise_conv/relu   (None, 12, 8, 256)       0         \n",
      " (ReLU)                                                          \n",
      "                                                                 \n",
      " layer6/depthwise_conv (Dept  (None, 12, 8, 256)       2304      \n",
      " hwiseConv2D)                                                    \n",
      "                                                                 \n",
      " layer6/depthwise_conv/bn (B  (None, 12, 8, 256)       768       \n",
      " atchNormalization)                                              \n",
      "                                                                 \n",
      " layer6/depthwise_conv/relu   (None, 12, 8, 256)       0         \n",
      " (ReLU)                                                          \n",
      "                                                                 \n",
      " layer6/pointwise_conv (Conv  (None, 12, 8, 256)       65536     \n",
      " 2D)                                                             \n",
      "                                                                 \n",
      " layer6/pointwise_conv/bn (B  (None, 12, 8, 256)       768       \n",
      " atchNormalization)                                              \n",
      "                                                                 \n",
      " layer6/pointwise_conv/relu   (None, 12, 8, 256)       0         \n",
      " (ReLU)                                                          \n",
      "                                                                 \n",
      " layer7/depthwise_conv (Dept  (None, 6, 4, 256)        2304      \n",
      " hwiseConv2D)                                                    \n",
      "                                                                 \n",
      " layer7/depthwise_conv/bn (B  (None, 6, 4, 256)        768       \n",
      " atchNormalization)                                              \n",
      "                                                                 \n",
      " layer7/depthwise_conv/relu   (None, 6, 4, 256)        0         \n",
      " (ReLU)                                                          \n",
      "                                                                 \n",
      " layer7/pointwise_conv (Conv  (None, 6, 4, 512)        131072    \n",
      " 2D)                                                             \n",
      "                                                                 \n",
      " layer7/pointwise_conv/bn (B  (None, 6, 4, 512)        1536      \n",
      " atchNormalization)                                              \n",
      "                                                                 \n",
      " layer7/pointwise_conv/relu   (None, 6, 4, 512)        0         \n",
      " (ReLU)                                                          \n",
      "                                                                 \n",
      " global_average_pooling2d (G  (None, 512)              0         \n",
      " lobalAveragePooling2D)                                          \n",
      "                                                                 \n",
      " dense (Dense)               (None, 10)                5130      \n",
      "                                                                 \n",
      "=================================================================\n",
      "Total params: 275,914\n",
      "Trainable params: 271,434\n",
      "Non-trainable params: 4,480\n",
      "_________________________________________________________________\n"
     ]
    }
   ],
   "source": [
    "import tensorflow as tf\n",
    "import yamnet_short\n",
    "yamnet_short = yamnet_short.Yamnet_short()\n",
    "yamnet_model = yamnet_short.model()\n",
    "yamnet_model.compile(\n",
    "    optimizer=tf.keras.optimizers.Adam(),\n",
    "    loss=tf.keras.losses.SparseCategoricalCrossentropy(from_logits=True),\n",
    "    metrics=['accuracy'],\n",
    ")\n",
    "yamnet_model.summary()\n"
   ]
  },
  {
   "cell_type": "code",
   "execution_count": 3,
   "metadata": {},
   "outputs": [],
   "source": [
    "parent_dir = \"D:\\\\datasets\\\\UrbanSounds8K\\\\resampled_wav_16000\"\n",
    "folds = sub_dirs = np.array(['fold1','fold2','fold3','fold4',\n",
    "                  'fold5','fold6','fold7','fold8',\n",
    "                  'fold9','fold10'])\n",
    "classes = ['0_air_conditioner', '1_car_horn', '2_children_playing', '3_dog_bark', \n",
    "'4_drilling', '5_engine_idling', '6_gun_shot', '7_jackhammer', '8_siren', '9_street_music']\n",
    "\n",
    "filenames_all = []\n",
    "for fold in folds:\n",
    "    filenames = glob.glob(os.path.join(parent_dir, fold, \"*.wav\"))\n",
    "    filenames_all.extend(filenames)"
   ]
  },
  {
   "cell_type": "code",
   "execution_count": 4,
   "metadata": {},
   "outputs": [],
   "source": [
    "from audiomentations import Compose, AddGaussianNoise, TimeStretch, PitchShift, Shift\n",
    "import numpy as np\n",
    "\n",
    "augment = Compose([\n",
    "    AddGaussianNoise(min_amplitude=0.001, max_amplitude=0.015, p=0.5),\n",
    "    TimeStretch(min_rate=0.8, max_rate=1.25, p=0.5),\n",
    "    PitchShift(min_semitones=-4, max_semitones=4, p=0.5),\n",
    "    # Shift(min_fraction=-0.5, max_fraction=0.5, p=0.5),\n",
    "    # AddBackgroundNoise\n",
    "    # AddShortNoises\n",
    "])\n",
    "\n",
    "@tf.function\n",
    "def augment_sample(augment, wave):\n",
    "    return augment(samples=wave, sample_rate=16000)    \n"
   ]
  },
  {
   "cell_type": "code",
   "execution_count": 7,
   "metadata": {},
   "outputs": [
    {
     "name": "stdout",
     "output_type": "stream",
     "text": [
      "WARNING:tensorflow:5 out of the last 6 calls to <function get_embedding at 0x000002AE49254DC0> triggered tf.function retracing. Tracing is expensive and the excessive number of tracings could be due to (1) creating @tf.function repeatedly in a loop, (2) passing tensors with different shapes, (3) passing Python objects instead of tensors. For (1), please define your @tf.function outside of the loop. For (2), @tf.function has experimental_relax_shapes=True option that relaxes argument shapes that can avoid unnecessary retracing. For (3), please refer to https://www.tensorflow.org/guide/function#controlling_retracing and https://www.tensorflow.org/api_docs/python/tf/function for  more details.\n",
      "WARNING:tensorflow:6 out of the last 7 calls to <function get_embedding at 0x000002AE49254DC0> triggered tf.function retracing. Tracing is expensive and the excessive number of tracings could be due to (1) creating @tf.function repeatedly in a loop, (2) passing tensors with different shapes, (3) passing Python objects instead of tensors. For (1), please define your @tf.function outside of the loop. For (2), @tf.function has experimental_relax_shapes=True option that relaxes argument shapes that can avoid unnecessary retracing. For (3), please refer to https://www.tensorflow.org/guide/function#controlling_retracing and https://www.tensorflow.org/api_docs/python/tf/function for  more details.\n",
      "length of dataset 125060\n"
     ]
    }
   ],
   "source": [
    "import params as yamnet_params\n",
    "def decode_audio(audio_binary):\n",
    "  audio, _ = tf.audio.decode_wav(contents=audio_binary)\n",
    "  return tf.squeeze(audio, axis=-1)\n",
    "  \n",
    "def get_label(filename):\n",
    "    label = tf.strings.split(filename, \"\\\\\")[-1]\n",
    "    label = tf.strings.split(label, \"-\")[1]\n",
    "    length = len(get_embedding(filename))\n",
    "    try: \n",
    "      label = tf.repeat(label, length)\n",
    "    except:\n",
    "      pass\n",
    "    label = tf.cast(int(label), dtype='int32')\n",
    "    return label\n",
    "\n",
    "def get_waveform_no_label(file_path):\n",
    "  audio_binary = tf.io.read_file(file_path)\n",
    "  waveform = decode_audio(audio_binary)\n",
    "  waveform = tf.cast(waveform, dtype=tf.float32)\n",
    "  return waveform\n",
    "\n",
    "@tf.function\n",
    "def get_embedding(filename, AUGMENT=False):\n",
    "  params = yamnet_params.Params(sample_rate=16000, patch_hop_seconds=0.5)\n",
    "  waveform = get_waveform_no_label(filename)\n",
    "  if AUGMENT==True:\n",
    "    waveform = augment_sample(augment, waveform)\n",
    "  waveform_padded = features_lib.pad_waveform(waveform, params)\n",
    "  log_mel_spectrogram, features = features_lib.waveform_to_log_mel_spectrogram_patches(\n",
    "      waveform_padded, params)\n",
    "  return tf.expand_dims(features, axis=-1)\n",
    "  # return log_mel_spectrogram\n",
    "\n",
    "# Create a dataset of filenames\n",
    "dataset = tf.data.Dataset.from_tensor_slices(filenames_all)\n",
    "\n",
    "# Map the filenames to the embeddings\n",
    "dataset_samples_noaugment = dataset.map(\n",
    "  map_func = lambda x: tf.py_function(get_embedding, inp=[x, False], Tout=tf.float32, name=None),\n",
    "  num_parallel_calls=tf.data.AUTOTUNE\n",
    ")\n",
    "dataset_samples_augment = dataset.map(\n",
    "  map_func = lambda x: tf.py_function(get_embedding, inp=[x, True], Tout=tf.float32, name=None),\n",
    "  num_parallel_calls=tf.data.AUTOTUNE\n",
    ")\n",
    "\n",
    "dataset_samples_combined = dataset_samples_noaugment.concatenate(dataset_samples_augment)\n",
    "\n",
    "dataset_labels = dataset.map(get_label)\n",
    "dataset_labels_combined = dataset_labels.concatenate(dataset_labels)\n",
    "\n",
    "\n",
    "# Flatmap the embeddings to squeeze dim=0 and then zip the samples and labels\n",
    "dataset_samples_combined = dataset_samples_combined.flat_map(lambda x: tf.data.Dataset.from_tensor_slices(x))\n",
    "dataset_labels_combined = dataset_labels_combined.flat_map(lambda x: tf.data.Dataset.from_tensor_slices(x))\n",
    "\n",
    "dataset = dataset.zip((dataset_samples_combined, dataset_labels_combined))\n",
    "\n",
    "# Train-test split\n",
    "length = len(list(dataset))\n",
    "print(\"length of dataset\", length)\n",
    "AUTOTUNE = tf.data.AUTOTUNE\n",
    "\n",
    "# https://stackoverflow.com/questions/64684139/tensorflow-keras-model-fit-can-not-read-validation-data-in-dataset-format\n",
    "## Take roughly first 10% (first fold, unaugmented) of data as validation; batch too early cannot validate\n",
    "dataset_test = dataset.take(int(length*0.1))\n",
    "dataset_train = dataset.skip(int(length*0.1))\n",
    "\n",
    "dataset_test = dataset_test.shuffle(64).batch(64).cache().prefetch(AUTOTUNE)\n",
    "dataset_train = dataset_train.shuffle(64).batch(64).cache().prefetch(AUTOTUNE)\n"
   ]
  },
  {
   "cell_type": "code",
   "execution_count": 8,
   "metadata": {},
   "outputs": [
    {
     "name": "stdout",
     "output_type": "stream",
     "text": [
      "Epoch 1/30\n",
      "     50/Unknown - 16s 63ms/step - loss: 2.4198 - accuracy: 0.1553"
     ]
    },
    {
     "ename": "KeyboardInterrupt",
     "evalue": "",
     "output_type": "error",
     "traceback": [
      "\u001b[1;31m---------------------------------------------------------------------------\u001b[0m",
      "\u001b[1;31mKeyboardInterrupt\u001b[0m                         Traceback (most recent call last)",
      "\u001b[1;32m~\\AppData\\Local\\Temp\\ipykernel_27656\\694331661.py\u001b[0m in \u001b[0;36m<module>\u001b[1;34m\u001b[0m\n\u001b[0;32m      7\u001b[0m                                                  verbose=1)\n\u001b[0;32m      8\u001b[0m \u001b[1;33m\u001b[0m\u001b[0m\n\u001b[1;32m----> 9\u001b[1;33m \u001b[0myamnet_model\u001b[0m\u001b[1;33m.\u001b[0m\u001b[0mfit\u001b[0m\u001b[1;33m(\u001b[0m\u001b[0mdataset_train\u001b[0m\u001b[1;33m,\u001b[0m \u001b[0mvalidation_data\u001b[0m \u001b[1;33m=\u001b[0m \u001b[0mdataset_test\u001b[0m\u001b[1;33m,\u001b[0m \u001b[0mepochs\u001b[0m\u001b[1;33m=\u001b[0m\u001b[1;36m30\u001b[0m\u001b[1;33m,\u001b[0m \u001b[0mverbose\u001b[0m\u001b[1;33m=\u001b[0m\u001b[1;36m1\u001b[0m\u001b[1;33m,\u001b[0m \u001b[0mcallbacks\u001b[0m\u001b[1;33m=\u001b[0m\u001b[1;33m[\u001b[0m\u001b[0mcp_callback\u001b[0m\u001b[1;33m]\u001b[0m\u001b[1;33m)\u001b[0m\u001b[1;33m\u001b[0m\u001b[1;33m\u001b[0m\u001b[0m\n\u001b[0m\u001b[0;32m     10\u001b[0m \u001b[1;33m\u001b[0m\u001b[0m\n\u001b[0;32m     11\u001b[0m \u001b[1;31m# Save HD5 model in the end\u001b[0m\u001b[1;33m\u001b[0m\u001b[1;33m\u001b[0m\u001b[0m\n",
      "\u001b[1;32mC:\\ProgramData\\Miniconda3\\envs\\usc39\\lib\\site-packages\\keras\\utils\\traceback_utils.py\u001b[0m in \u001b[0;36merror_handler\u001b[1;34m(*args, **kwargs)\u001b[0m\n\u001b[0;32m     62\u001b[0m     \u001b[0mfiltered_tb\u001b[0m \u001b[1;33m=\u001b[0m \u001b[1;32mNone\u001b[0m\u001b[1;33m\u001b[0m\u001b[1;33m\u001b[0m\u001b[0m\n\u001b[0;32m     63\u001b[0m     \u001b[1;32mtry\u001b[0m\u001b[1;33m:\u001b[0m\u001b[1;33m\u001b[0m\u001b[1;33m\u001b[0m\u001b[0m\n\u001b[1;32m---> 64\u001b[1;33m       \u001b[1;32mreturn\u001b[0m \u001b[0mfn\u001b[0m\u001b[1;33m(\u001b[0m\u001b[1;33m*\u001b[0m\u001b[0margs\u001b[0m\u001b[1;33m,\u001b[0m \u001b[1;33m**\u001b[0m\u001b[0mkwargs\u001b[0m\u001b[1;33m)\u001b[0m\u001b[1;33m\u001b[0m\u001b[1;33m\u001b[0m\u001b[0m\n\u001b[0m\u001b[0;32m     65\u001b[0m     \u001b[1;32mexcept\u001b[0m \u001b[0mException\u001b[0m \u001b[1;32mas\u001b[0m \u001b[0me\u001b[0m\u001b[1;33m:\u001b[0m  \u001b[1;31m# pylint: disable=broad-except\u001b[0m\u001b[1;33m\u001b[0m\u001b[1;33m\u001b[0m\u001b[0m\n\u001b[0;32m     66\u001b[0m       \u001b[0mfiltered_tb\u001b[0m \u001b[1;33m=\u001b[0m \u001b[0m_process_traceback_frames\u001b[0m\u001b[1;33m(\u001b[0m\u001b[0me\u001b[0m\u001b[1;33m.\u001b[0m\u001b[0m__traceback__\u001b[0m\u001b[1;33m)\u001b[0m\u001b[1;33m\u001b[0m\u001b[1;33m\u001b[0m\u001b[0m\n",
      "\u001b[1;32mC:\\ProgramData\\Miniconda3\\envs\\usc39\\lib\\site-packages\\keras\\engine\\training.py\u001b[0m in \u001b[0;36mfit\u001b[1;34m(self, x, y, batch_size, epochs, verbose, callbacks, validation_split, validation_data, shuffle, class_weight, sample_weight, initial_epoch, steps_per_epoch, validation_steps, validation_batch_size, validation_freq, max_queue_size, workers, use_multiprocessing)\u001b[0m\n\u001b[0;32m   1382\u001b[0m                 _r=1):\n\u001b[0;32m   1383\u001b[0m               \u001b[0mcallbacks\u001b[0m\u001b[1;33m.\u001b[0m\u001b[0mon_train_batch_begin\u001b[0m\u001b[1;33m(\u001b[0m\u001b[0mstep\u001b[0m\u001b[1;33m)\u001b[0m\u001b[1;33m\u001b[0m\u001b[1;33m\u001b[0m\u001b[0m\n\u001b[1;32m-> 1384\u001b[1;33m               \u001b[0mtmp_logs\u001b[0m \u001b[1;33m=\u001b[0m \u001b[0mself\u001b[0m\u001b[1;33m.\u001b[0m\u001b[0mtrain_function\u001b[0m\u001b[1;33m(\u001b[0m\u001b[0miterator\u001b[0m\u001b[1;33m)\u001b[0m\u001b[1;33m\u001b[0m\u001b[1;33m\u001b[0m\u001b[0m\n\u001b[0m\u001b[0;32m   1385\u001b[0m               \u001b[1;32mif\u001b[0m \u001b[0mdata_handler\u001b[0m\u001b[1;33m.\u001b[0m\u001b[0mshould_sync\u001b[0m\u001b[1;33m:\u001b[0m\u001b[1;33m\u001b[0m\u001b[1;33m\u001b[0m\u001b[0m\n\u001b[0;32m   1386\u001b[0m                 \u001b[0mcontext\u001b[0m\u001b[1;33m.\u001b[0m\u001b[0masync_wait\u001b[0m\u001b[1;33m(\u001b[0m\u001b[1;33m)\u001b[0m\u001b[1;33m\u001b[0m\u001b[1;33m\u001b[0m\u001b[0m\n",
      "\u001b[1;32mC:\\ProgramData\\Miniconda3\\envs\\usc39\\lib\\site-packages\\tensorflow\\python\\util\\traceback_utils.py\u001b[0m in \u001b[0;36merror_handler\u001b[1;34m(*args, **kwargs)\u001b[0m\n\u001b[0;32m    148\u001b[0m     \u001b[0mfiltered_tb\u001b[0m \u001b[1;33m=\u001b[0m \u001b[1;32mNone\u001b[0m\u001b[1;33m\u001b[0m\u001b[1;33m\u001b[0m\u001b[0m\n\u001b[0;32m    149\u001b[0m     \u001b[1;32mtry\u001b[0m\u001b[1;33m:\u001b[0m\u001b[1;33m\u001b[0m\u001b[1;33m\u001b[0m\u001b[0m\n\u001b[1;32m--> 150\u001b[1;33m       \u001b[1;32mreturn\u001b[0m \u001b[0mfn\u001b[0m\u001b[1;33m(\u001b[0m\u001b[1;33m*\u001b[0m\u001b[0margs\u001b[0m\u001b[1;33m,\u001b[0m \u001b[1;33m**\u001b[0m\u001b[0mkwargs\u001b[0m\u001b[1;33m)\u001b[0m\u001b[1;33m\u001b[0m\u001b[1;33m\u001b[0m\u001b[0m\n\u001b[0m\u001b[0;32m    151\u001b[0m     \u001b[1;32mexcept\u001b[0m \u001b[0mException\u001b[0m \u001b[1;32mas\u001b[0m \u001b[0me\u001b[0m\u001b[1;33m:\u001b[0m\u001b[1;33m\u001b[0m\u001b[1;33m\u001b[0m\u001b[0m\n\u001b[0;32m    152\u001b[0m       \u001b[0mfiltered_tb\u001b[0m \u001b[1;33m=\u001b[0m \u001b[0m_process_traceback_frames\u001b[0m\u001b[1;33m(\u001b[0m\u001b[0me\u001b[0m\u001b[1;33m.\u001b[0m\u001b[0m__traceback__\u001b[0m\u001b[1;33m)\u001b[0m\u001b[1;33m\u001b[0m\u001b[1;33m\u001b[0m\u001b[0m\n",
      "\u001b[1;32mC:\\ProgramData\\Miniconda3\\envs\\usc39\\lib\\site-packages\\tensorflow\\python\\eager\\def_function.py\u001b[0m in \u001b[0;36m__call__\u001b[1;34m(self, *args, **kwds)\u001b[0m\n\u001b[0;32m    913\u001b[0m \u001b[1;33m\u001b[0m\u001b[0m\n\u001b[0;32m    914\u001b[0m       \u001b[1;32mwith\u001b[0m \u001b[0mOptionalXlaContext\u001b[0m\u001b[1;33m(\u001b[0m\u001b[0mself\u001b[0m\u001b[1;33m.\u001b[0m\u001b[0m_jit_compile\u001b[0m\u001b[1;33m)\u001b[0m\u001b[1;33m:\u001b[0m\u001b[1;33m\u001b[0m\u001b[1;33m\u001b[0m\u001b[0m\n\u001b[1;32m--> 915\u001b[1;33m         \u001b[0mresult\u001b[0m \u001b[1;33m=\u001b[0m \u001b[0mself\u001b[0m\u001b[1;33m.\u001b[0m\u001b[0m_call\u001b[0m\u001b[1;33m(\u001b[0m\u001b[1;33m*\u001b[0m\u001b[0margs\u001b[0m\u001b[1;33m,\u001b[0m \u001b[1;33m**\u001b[0m\u001b[0mkwds\u001b[0m\u001b[1;33m)\u001b[0m\u001b[1;33m\u001b[0m\u001b[1;33m\u001b[0m\u001b[0m\n\u001b[0m\u001b[0;32m    916\u001b[0m \u001b[1;33m\u001b[0m\u001b[0m\n\u001b[0;32m    917\u001b[0m       \u001b[0mnew_tracing_count\u001b[0m \u001b[1;33m=\u001b[0m \u001b[0mself\u001b[0m\u001b[1;33m.\u001b[0m\u001b[0mexperimental_get_tracing_count\u001b[0m\u001b[1;33m(\u001b[0m\u001b[1;33m)\u001b[0m\u001b[1;33m\u001b[0m\u001b[1;33m\u001b[0m\u001b[0m\n",
      "\u001b[1;32mC:\\ProgramData\\Miniconda3\\envs\\usc39\\lib\\site-packages\\tensorflow\\python\\eager\\def_function.py\u001b[0m in \u001b[0;36m_call\u001b[1;34m(self, *args, **kwds)\u001b[0m\n\u001b[0;32m    945\u001b[0m       \u001b[1;31m# In this case we have created variables on the first call, so we run the\u001b[0m\u001b[1;33m\u001b[0m\u001b[1;33m\u001b[0m\u001b[0m\n\u001b[0;32m    946\u001b[0m       \u001b[1;31m# defunned version which is guaranteed to never create variables.\u001b[0m\u001b[1;33m\u001b[0m\u001b[1;33m\u001b[0m\u001b[0m\n\u001b[1;32m--> 947\u001b[1;33m       \u001b[1;32mreturn\u001b[0m \u001b[0mself\u001b[0m\u001b[1;33m.\u001b[0m\u001b[0m_stateless_fn\u001b[0m\u001b[1;33m(\u001b[0m\u001b[1;33m*\u001b[0m\u001b[0margs\u001b[0m\u001b[1;33m,\u001b[0m \u001b[1;33m**\u001b[0m\u001b[0mkwds\u001b[0m\u001b[1;33m)\u001b[0m  \u001b[1;31m# pylint: disable=not-callable\u001b[0m\u001b[1;33m\u001b[0m\u001b[1;33m\u001b[0m\u001b[0m\n\u001b[0m\u001b[0;32m    948\u001b[0m     \u001b[1;32melif\u001b[0m \u001b[0mself\u001b[0m\u001b[1;33m.\u001b[0m\u001b[0m_stateful_fn\u001b[0m \u001b[1;32mis\u001b[0m \u001b[1;32mnot\u001b[0m \u001b[1;32mNone\u001b[0m\u001b[1;33m:\u001b[0m\u001b[1;33m\u001b[0m\u001b[1;33m\u001b[0m\u001b[0m\n\u001b[0;32m    949\u001b[0m       \u001b[1;31m# Release the lock early so that multiple threads can perform the call\u001b[0m\u001b[1;33m\u001b[0m\u001b[1;33m\u001b[0m\u001b[0m\n",
      "\u001b[1;32mC:\\ProgramData\\Miniconda3\\envs\\usc39\\lib\\site-packages\\tensorflow\\python\\eager\\function.py\u001b[0m in \u001b[0;36m__call__\u001b[1;34m(self, *args, **kwargs)\u001b[0m\n\u001b[0;32m   2954\u001b[0m       (graph_function,\n\u001b[0;32m   2955\u001b[0m        filtered_flat_args) = self._maybe_define_function(args, kwargs)\n\u001b[1;32m-> 2956\u001b[1;33m     return graph_function._call_flat(\n\u001b[0m\u001b[0;32m   2957\u001b[0m         filtered_flat_args, captured_inputs=graph_function.captured_inputs)  # pylint: disable=protected-access\n\u001b[0;32m   2958\u001b[0m \u001b[1;33m\u001b[0m\u001b[0m\n",
      "\u001b[1;32mC:\\ProgramData\\Miniconda3\\envs\\usc39\\lib\\site-packages\\tensorflow\\python\\eager\\function.py\u001b[0m in \u001b[0;36m_call_flat\u001b[1;34m(self, args, captured_inputs, cancellation_manager)\u001b[0m\n\u001b[0;32m   1851\u001b[0m         and executing_eagerly):\n\u001b[0;32m   1852\u001b[0m       \u001b[1;31m# No tape is watching; skip to running the function.\u001b[0m\u001b[1;33m\u001b[0m\u001b[1;33m\u001b[0m\u001b[0m\n\u001b[1;32m-> 1853\u001b[1;33m       return self._build_call_outputs(self._inference_function.call(\n\u001b[0m\u001b[0;32m   1854\u001b[0m           ctx, args, cancellation_manager=cancellation_manager))\n\u001b[0;32m   1855\u001b[0m     forward_backward = self._select_forward_and_backward_functions(\n",
      "\u001b[1;32mC:\\ProgramData\\Miniconda3\\envs\\usc39\\lib\\site-packages\\tensorflow\\python\\eager\\function.py\u001b[0m in \u001b[0;36mcall\u001b[1;34m(self, ctx, args, cancellation_manager)\u001b[0m\n\u001b[0;32m    497\u001b[0m       \u001b[1;32mwith\u001b[0m \u001b[0m_InterpolateFunctionError\u001b[0m\u001b[1;33m(\u001b[0m\u001b[0mself\u001b[0m\u001b[1;33m)\u001b[0m\u001b[1;33m:\u001b[0m\u001b[1;33m\u001b[0m\u001b[1;33m\u001b[0m\u001b[0m\n\u001b[0;32m    498\u001b[0m         \u001b[1;32mif\u001b[0m \u001b[0mcancellation_manager\u001b[0m \u001b[1;32mis\u001b[0m \u001b[1;32mNone\u001b[0m\u001b[1;33m:\u001b[0m\u001b[1;33m\u001b[0m\u001b[1;33m\u001b[0m\u001b[0m\n\u001b[1;32m--> 499\u001b[1;33m           outputs = execute.execute(\n\u001b[0m\u001b[0;32m    500\u001b[0m               \u001b[0mstr\u001b[0m\u001b[1;33m(\u001b[0m\u001b[0mself\u001b[0m\u001b[1;33m.\u001b[0m\u001b[0msignature\u001b[0m\u001b[1;33m.\u001b[0m\u001b[0mname\u001b[0m\u001b[1;33m)\u001b[0m\u001b[1;33m,\u001b[0m\u001b[1;33m\u001b[0m\u001b[1;33m\u001b[0m\u001b[0m\n\u001b[0;32m    501\u001b[0m               \u001b[0mnum_outputs\u001b[0m\u001b[1;33m=\u001b[0m\u001b[0mself\u001b[0m\u001b[1;33m.\u001b[0m\u001b[0m_num_outputs\u001b[0m\u001b[1;33m,\u001b[0m\u001b[1;33m\u001b[0m\u001b[1;33m\u001b[0m\u001b[0m\n",
      "\u001b[1;32mC:\\ProgramData\\Miniconda3\\envs\\usc39\\lib\\site-packages\\tensorflow\\python\\eager\\execute.py\u001b[0m in \u001b[0;36mquick_execute\u001b[1;34m(op_name, num_outputs, inputs, attrs, ctx, name)\u001b[0m\n\u001b[0;32m     52\u001b[0m   \u001b[1;32mtry\u001b[0m\u001b[1;33m:\u001b[0m\u001b[1;33m\u001b[0m\u001b[1;33m\u001b[0m\u001b[0m\n\u001b[0;32m     53\u001b[0m     \u001b[0mctx\u001b[0m\u001b[1;33m.\u001b[0m\u001b[0mensure_initialized\u001b[0m\u001b[1;33m(\u001b[0m\u001b[1;33m)\u001b[0m\u001b[1;33m\u001b[0m\u001b[1;33m\u001b[0m\u001b[0m\n\u001b[1;32m---> 54\u001b[1;33m     tensors = pywrap_tfe.TFE_Py_Execute(ctx._handle, device_name, op_name,\n\u001b[0m\u001b[0;32m     55\u001b[0m                                         inputs, attrs, num_outputs)\n\u001b[0;32m     56\u001b[0m   \u001b[1;32mexcept\u001b[0m \u001b[0mcore\u001b[0m\u001b[1;33m.\u001b[0m\u001b[0m_NotOkStatusException\u001b[0m \u001b[1;32mas\u001b[0m \u001b[0me\u001b[0m\u001b[1;33m:\u001b[0m\u001b[1;33m\u001b[0m\u001b[1;33m\u001b[0m\u001b[0m\n",
      "\u001b[1;31mKeyboardInterrupt\u001b[0m: "
     ]
    }
   ],
   "source": [
    "# Declare checkpoint path and start training\n",
    "checkpoint_path = \"training_1/cp.ckpt\"\n",
    "checkpoint_dir = os.path.dirname(checkpoint_path)\n",
    "# Create a callback that saves the model's weights\n",
    "cp_callback = tf.keras.callbacks.ModelCheckpoint(filepath=checkpoint_path,\n",
    "                                                 save_weights_only=True,\n",
    "                                                 verbose=1)\n",
    "\n",
    "yamnet_model.fit(dataset_train, validation_data = dataset_test, epochs=30, verbose=1, callbacks=[cp_callback])\n",
    "\n",
    "# Save HD5 model in the end \n",
    "yamnet_model.save('./checkpoints/whole_model.hd5')\n",
    "# new_model = tf.keras.models.load_model('my_model.h5')"
   ]
  },
  {
   "cell_type": "code",
   "execution_count": null,
   "metadata": {},
   "outputs": [],
   "source": [
    "# Create a dataset of filenames\n",
    "dataset_final = tf.data.Dataset.from_tensor_slices(filenames_all[:int(len(filenames_all)*0.05)])\n",
    "\n",
    "# Map the filenames to the embeddings\n",
    "dataset_final_samples = dataset_final.map(\n",
    "  map_func = lambda x: tf.py_function(get_embedding, inp=[x, False], Tout=tf.float32, name=None),\n",
    "  num_parallel_calls=tf.data.AUTOTUNE\n",
    ")\n",
    "\n",
    "def get_first_element(x):\n",
    "  return x[0]\n",
    "\n",
    "dataset_final_labels = dataset_final.map(get_label)\n",
    "dataset_final_labels = dataset_final_labels.map(\n",
    "  lambda x: get_first_element(x)\n",
    ")\n"
   ]
  },
  {
   "cell_type": "code",
   "execution_count": null,
   "metadata": {},
   "outputs": [],
   "source": [
    "y_preds = []\n",
    "for x in dataset_final_samples:\n",
    "    y_pred = tf.argmax(tf.math.reduce_sum(yamnet_model.predict(x), axis=0))\n",
    "    y_preds.append(y_pred)\n",
    "y_preds = np.array(y_preds)\n",
    "\n",
    "def get_numpy(a_list):\n",
    "    for b in a_list:\n",
    "        yield b.numpy()\n",
    "\n",
    "y_true = np.array([b for b in get_numpy(list(dataset_final_labels))])"
   ]
  },
  {
   "cell_type": "code",
   "execution_count": null,
   "metadata": {},
   "outputs": [
    {
     "name": "stdout",
     "output_type": "stream",
     "text": [
      "0.9243119266055045\n"
     ]
    },
    {
     "data": {
      "text/plain": [
       "<sklearn.metrics._plot.confusion_matrix.ConfusionMatrixDisplay at 0x1875902f2e0>"
      ]
     },
     "execution_count": 374,
     "metadata": {},
     "output_type": "execute_result"
    },
    {
     "data": {
      "image/png": "[encoded data removed]",
      "text/plain": [
       "<Figure size 432x288 with 2 Axes>"
      ]
     },
     "metadata": {
      "needs_background": "light"
     },
     "output_type": "display_data"
    }
   ],
   "source": [
    "from sklearn.metrics import accuracy_score\n",
    "from sklearn.metrics import confusion_matrix, ConfusionMatrixDisplay\n",
    "\n",
    "print(accuracy_score(y_true, y_preds))\n",
    "\n",
    "cm = confusion_matrix(y_true, y_preds, labels=range(len(classes)))\n",
    "disp = ConfusionMatrixDisplay(confusion_matrix=cm,display_labels=classes)\n",
    "disp.plot(xticks_rotation=\"vertical\")"
   ]
  }
 ],
 "metadata": {
  "interpreter": {
   "hash": "aef9c008b311f0b7f3d27d4f3907c3c9c136ad861e53efda71f92a04d644c5c8"
  },
  "kernelspec": {
   "display_name": "Python 3.9.7 ('usc39')",
   "language": "python",
   "name": "python3"
  },
  "language_info": {
   "codemirror_mode": {
    "name": "ipython",
    "version": 3
   },
   "file_extension": ".py",
   "mimetype": "text/x-python",
   "name": "python",
   "nbconvert_exporter": "python",
   "pygments_lexer": "ipython3",
   "version": "3.9.7"
  },
  "orig_nbformat": 4
 },
 "nbformat": 4,
 "nbformat_minor": 2
}
