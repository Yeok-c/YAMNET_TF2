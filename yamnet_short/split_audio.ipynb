{
 "cells": [
  {
   "cell_type": "code",
   "execution_count": null,
   "metadata": {},
   "outputs": [],
   "source": [
    "ffmpeg -i   .wav -f segment -segment_time 2 output_%03d.wav"
   ]
  },
  {
   "cell_type": "code",
   "execution_count": 10,
   "metadata": {},
   "outputs": [
    {
     "name": "stdout",
     "output_type": "stream",
     "text": [
      "ffmpeg -i \"D:\\datasets\\modified_car_engine_sounds\\resampled_16k\\BEST of Anti-Lag, Exhaust Flames, Pops, Crackles & Backfire Sounds.wav\" -f segment -segment_time 4 \"D:\\datasets\\cer_dataset_16k_flattened\\Class_00_Modified_car_engines\\sBEST of Anti-Lag, Exhaust Flames, Pops, Crackles & Backfire Sounds_%03d.wav\" -y -loglevel warning\n",
      "ffmpeg -i \"D:\\datasets\\modified_car_engine_sounds\\resampled_16k\\Best of Modified Car Sounds 2018!-Dss8g-yRPK8.wav\" -f segment -segment_time 4 \"D:\\datasets\\cer_dataset_16k_flattened\\Class_00_Modified_car_engines\\sBest of Modified Car Sounds 2018!-Dss8g-yRPK8_%03d.wav\" -y -loglevel warning\n",
      "ffmpeg -i \"D:\\datasets\\modified_car_engine_sounds\\resampled_16k\\BEST OF Modified Car Sounds 2019 ! N-Largo S F12.wav\" -f segment -segment_time 4 \"D:\\datasets\\cer_dataset_16k_flattened\\Class_00_Modified_car_engines\\sBEST OF Modified Car Sounds 2019 ! N-Largo S F12_%03d.wav\" -y -loglevel warning\n",
      "ffmpeg -i \"D:\\datasets\\modified_car_engine_sounds\\resampled_16k\\BEST OF Modified Car Sounds 2021 ! 2000HP.wav\" -f segment -segment_time 4 \"D:\\datasets\\cer_dataset_16k_flattened\\Class_00_Modified_car_engines\\sBEST OF Modified Car Sounds 2021 ! 2000HP_%03d.wav\" -y -loglevel warning\n",
      "ffmpeg -i \"D:\\datasets\\modified_car_engine_sounds\\resampled_16k\\BEST OF SUPERCAR SOUNDS 2019-5YbJhq1nltw.wav\" -f segment -segment_time 4 \"D:\\datasets\\cer_dataset_16k_flattened\\Class_00_Modified_car_engines\\sBEST OF SUPERCAR SOUNDS 2019-5YbJhq1nltw_%03d.wav\" -y -loglevel warning\n",
      "ffmpeg -i \"D:\\datasets\\modified_car_engine_sounds\\resampled_16k\\BEST OF SUPERCAR SOUNDS 2021.wav\" -f segment -segment_time 4 \"D:\\datasets\\cer_dataset_16k_flattened\\Class_00_Modified_car_engines\\sBEST OF SUPERCAR SOUNDS 2021_%03d.wav\" -y -loglevel warning\n",
      "ffmpeg -i \"D:\\datasets\\modified_car_engine_sounds\\resampled_16k\\Modified CAR Sound‘s Compilation 2018 _ MUST WATCH!!.wav\" -f segment -segment_time 4 \"D:\\datasets\\cer_dataset_16k_flattened\\Class_00_Modified_car_engines\\sModified CAR Sound‘s Compilation 2018 _ MUST WATCH!!_%03d.wav\" -y -loglevel warning\n",
      "ffmpeg -i \"D:\\datasets\\modified_car_engine_sounds\\resampled_16k\\Modified EXHAUST Sounds Compilation.wav\" -f segment -segment_time 4 \"D:\\datasets\\cer_dataset_16k_flattened\\Class_00_Modified_car_engines\\sModified EXHAUST Sounds Compilation_%03d.wav\" -y -loglevel warning\n",
      "ffmpeg -i \"D:\\datasets\\modified_car_engine_sounds\\resampled_16k\\ULTIMATE Turbo Sound Compilation.wav\" -f segment -segment_time 4 \"D:\\datasets\\cer_dataset_16k_flattened\\Class_00_Modified_car_engines\\sULTIMATE Turbo Sound Compilation_%03d.wav\" -y -loglevel warning\n"
     ]
    }
   ],
   "source": [
    "import glob, os\n",
    "\n",
    "DATASET_ORIGIN_PATHS =  [\"D:\\\\datasets\\\\modified_car_engine_sounds\\\\resampled_16k\\\\\"]\n",
    "DATASET_DESTINATION_PATH = \"D:\\\\datasets\\\\cer_dataset_16k_flattened\\\\Class_00_Modified_car_engines\\\\s\"\n",
    "\n",
    "filenames_origin_all, filenames_destination_all = [],[]\n",
    "for parent_dir in DATASET_ORIGIN_PATHS:\n",
    "    filenames = glob.glob(os.path.join(parent_dir, \"*.wav\"))\n",
    "    filenames_origin_all.extend(filenames)\n",
    "\n",
    "def get_path_insubdir_no_wav(filename):\n",
    "    subdir_path = filename.split(DATASET_ORIGIN_PATHS[0])[-1].split(\".wav\")[0]\n",
    "    return subdir_path\n",
    "\n",
    "for filename in filenames_origin_all:\n",
    "    filenames_destination_all.append(DATASET_DESTINATION_PATH + get_path_insubdir_no_wav(filename))\n",
    "\n",
    "filenames_destination_all\n",
    "# print(filenames_origin_all)\n",
    "\n",
    "# Wrap because file name or path may contain spaces\n",
    "def wrap_with_doublequote(input):\n",
    "    return \"\\\"\" + input + \"\\\"\"\n",
    "\n",
    "for origin_path,destination_path in zip(filenames_origin_all, filenames_destination_all):\n",
    "    origin_path = origin_path.replace(\"/\", \"\\\\\")\n",
    "    destination_path = destination_path.replace(\"/\", \"\\\\\")\n",
    "    # print(\"Splitting {}\".format(origin_path))\n",
    "    # ffmpeg -i input.wav -f segment -segment_time 2 output_%03d.wav\n",
    "    print(\"ffmpeg -i \" + wrap_with_doublequote(origin_path) + \" -f segment -segment_time 4 \" \n",
    "                    + wrap_with_doublequote(destination_path+\"_%03d.wav\") + \" -y -loglevel warning\")\n",
    "    os.system(\"ffmpeg -i \" + wrap_with_doublequote(origin_path) + \" -f segment -segment_time 4 \" \n",
    "                    + wrap_with_doublequote(destination_path+\"_%03d.wav\") + \" -y -loglevel warning\")\n",
    "    # print(origin_path)\n"
   ]
  }
 ],
 "metadata": {
  "interpreter": {
   "hash": "2647ea34e536f865ab67ff9ddee7fd78773d956cec0cab53c79b32cd10da5d83"
  },
  "kernelspec": {
   "display_name": "Python 3.9.7 64-bit",
   "language": "python",
   "name": "python3"
  },
  "language_info": {
   "codemirror_mode": {
    "name": "ipython",
    "version": 3
   },
   "file_extension": ".py",
   "mimetype": "text/x-python",
   "name": "python",
   "nbconvert_exporter": "python",
   "pygments_lexer": "ipython3",
   "version": "3.9.7"
  },
  "orig_nbformat": 4
 },
 "nbformat": 4,
 "nbformat_minor": 2
}
